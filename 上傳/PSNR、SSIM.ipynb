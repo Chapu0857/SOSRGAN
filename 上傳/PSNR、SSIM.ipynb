{
 "cells": [
  {
   "cell_type": "code",
   "execution_count": null,
   "metadata": {},
   "outputs": [],
   "source": [
    "from skimage.metrics import mean_squared_error as mse\n",
    "from skimage.metrics import peak_signal_noise_ratio as psnr\n",
    "from skimage.metrics import structural_similarity as ssim\n",
    "import cv2\n",
    "import os\n",
    "from glob import glob\n",
    "from natsort import natsorted\n",
    "\n",
    "\n",
    "target_dir = 'C://pythonwork/SRGAN/data/Set/BSD100/BSD_hr/lrhr'  # 标签图像（lable 、 ground-truth）存放路径\n",
    "target_files = natsorted(glob(os.path.join(target_dir, '*.png')) + glob(os.path.join(target_dir, '*.jpg')))  # 标签图像（lable 、 ground-truth）名字的后缀\n",
    "\n",
    "test_result_dir = 'C://pythonwork/SRGAN/data/Set/BSD100/EDSR'  # 预测图像（prediction、test、增强图像）存放路径\n",
    "test_result_files = natsorted(glob(os.path.join(test_result_dir, '*.png')) + glob(os.path.join(test_result_dir, '*.jpg')))  # 预测图像（prediction、test、增强图像）名字的后缀\n",
    "\n",
    "\n",
    "psnr_total = 0\n",
    "ssim_total = 0\n",
    "for i in range(0, len(target_files)):\n",
    "    img1 = cv2.imread(target_files[i])\n",
    "    img2 = cv2.imread(test_result_files[i])\n",
    "    p = psnr(img1, img2)\n",
    "    s = ssim(img1, img2, multichannel=True)  # 对于多通道图像(RGB、HSV等)关键词multichannel要设置为True\n",
    "    print(p)\n",
    "    # s = ssim(img1, img2)  # 对于多通道图像(RGB、HSV等)关键词multichannel要设置为True\n",
    "    m = mse(img1, img2)\n",
    "\n",
    "    psnr_total = p + psnr_total\n",
    "    ssim_total = s + ssim_total\n",
    "\n",
    "mean_psnr = psnr_total/len(target_files)\n",
    "mean_ssim = ssim_total/len(target_files)\n",
    "print('平均psnr的值为：',mean_psnr)\n",
    "print('平均ssim的值为：',mean_ssim)"
   ]
  }
 ],
 "metadata": {
  "kernelspec": {
   "display_name": "Python 3",
   "language": "python",
   "name": "python3"
  },
  "language_info": {
   "codemirror_mode": {
    "name": "ipython",
    "version": 3
   },
   "file_extension": ".py",
   "mimetype": "text/x-python",
   "name": "python",
   "nbconvert_exporter": "python",
   "pygments_lexer": "ipython3",
   "version": "3.6.10"
  }
 },
 "nbformat": 4,
 "nbformat_minor": 4
}
