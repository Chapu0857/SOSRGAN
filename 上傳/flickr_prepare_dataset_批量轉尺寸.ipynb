{
 "cells": [
  {
   "cell_type": "code",
   "execution_count": 28,
   "metadata": {},
   "outputs": [
    {
     "ename": "error",
     "evalue": "OpenCV(4.6.0) D:\\a\\opencv-python\\opencv-python\\opencv\\modules\\imgproc\\src\\resize.cpp:4052: error: (-215:Assertion failed) !ssize.empty() in function 'cv::resize'\n",
     "output_type": "error",
     "traceback": [
      "\u001b[1;31m---------------------------------------------------------------------------\u001b[0m",
      "\u001b[1;31merror\u001b[0m                                     Traceback (most recent call last)",
      "\u001b[1;32m<ipython-input-28-b7754870e016>\u001b[0m in \u001b[0;36m<module>\u001b[1;34m\u001b[0m\n\u001b[0;32m     18\u001b[0m     \u001b[0mimg_array\u001b[0m \u001b[1;33m=\u001b[0m \u001b[0mcv2\u001b[0m\u001b[1;33m.\u001b[0m\u001b[0mimread\u001b[0m\u001b[1;33m(\u001b[0m\u001b[0mtrain_dir\u001b[0m \u001b[1;33m+\u001b[0m \u001b[1;34m\"/BSD100/\"\u001b[0m \u001b[1;33m+\u001b[0m \u001b[0mimg\u001b[0m\u001b[1;33m)\u001b[0m\u001b[1;33m\u001b[0m\u001b[1;33m\u001b[0m\u001b[0m\n\u001b[0;32m     19\u001b[0m \u001b[1;33m\u001b[0m\u001b[0m\n\u001b[1;32m---> 20\u001b[1;33m     \u001b[0mimg_array\u001b[0m \u001b[1;33m=\u001b[0m \u001b[0mcv2\u001b[0m\u001b[1;33m.\u001b[0m\u001b[0mresize\u001b[0m\u001b[1;33m(\u001b[0m\u001b[0mimg_array\u001b[0m\u001b[1;33m,\u001b[0m \u001b[1;33m(\u001b[0m\u001b[1;36m256\u001b[0m\u001b[1;33m,\u001b[0m\u001b[1;36m256\u001b[0m\u001b[1;33m)\u001b[0m\u001b[1;33m)\u001b[0m\u001b[1;33m\u001b[0m\u001b[1;33m\u001b[0m\u001b[0m\n\u001b[0m\u001b[0;32m     21\u001b[0m     \u001b[0mlr_img_array\u001b[0m \u001b[1;33m=\u001b[0m \u001b[0mcv2\u001b[0m\u001b[1;33m.\u001b[0m\u001b[0mresize\u001b[0m\u001b[1;33m(\u001b[0m\u001b[0mimg_array\u001b[0m\u001b[1;33m,\u001b[0m\u001b[1;33m(\u001b[0m\u001b[1;36m64\u001b[0m\u001b[1;33m,\u001b[0m\u001b[1;36m64\u001b[0m\u001b[1;33m)\u001b[0m\u001b[1;33m)\u001b[0m\u001b[1;33m\u001b[0m\u001b[1;33m\u001b[0m\u001b[0m\n\u001b[0;32m     22\u001b[0m     \u001b[0mcv2\u001b[0m\u001b[1;33m.\u001b[0m\u001b[0mimwrite\u001b[0m\u001b[1;33m(\u001b[0m\u001b[0mtrain_dir\u001b[0m\u001b[1;33m+\u001b[0m \u001b[1;34m\"/BSD100/DSDm_hr/\"\u001b[0m \u001b[1;33m+\u001b[0m \u001b[0mimg\u001b[0m\u001b[1;33m,\u001b[0m \u001b[0mimg_array\u001b[0m\u001b[1;33m)\u001b[0m\u001b[1;33m\u001b[0m\u001b[1;33m\u001b[0m\u001b[0m\n",
      "\u001b[1;31merror\u001b[0m: OpenCV(4.6.0) D:\\a\\opencv-python\\opencv-python\\opencv\\modules\\imgproc\\src\\resize.cpp:4052: error: (-215:Assertion failed) !ssize.empty() in function 'cv::resize'\n"
     ]
    }
   ],
   "source": [
    "# # https://youtu.be/nbRkLE2fiVI\n",
    "# https://youtu.be/1HqjPqNglPc\n",
    "\"\"\"\n",
    "Dataset from: http://press.liacs.nl/mirflickr/mirdownload.html\n",
    "Read high res. original images and save lower versions to be used for SRGAN.\n",
    "Here, we are resizing them to 128x128 that will be  used as HR images and \n",
    "32x32 that will be used as LR images\n",
    "\"\"\"\n",
    "\n",
    "import cv2\n",
    "import numpy as np\n",
    "import os\n",
    "import matplotlib.pyplot as plt\n",
    "\n",
    "train_dir = \"data/Set\" \n",
    "\n",
    "for img in os.listdir( train_dir + \"/BSD100\"):\n",
    "    img_array = cv2.imread(train_dir + \"/BSD100/\" + img)\n",
    "    \n",
    "    img_array = cv2.resize(img_array, (256,256))\n",
    "    lr_img_array = cv2.resize(img_array,(64,64))\n",
    "    cv2.imwrite(train_dir+ \"/BSD100/DSDm_hr/\" + img, img_array)\n",
    "    cv2.imwrite(train_dir+ \"/BSD100/BSDm_lr/\"+ img, lr_img_array)"
   ]
  },
  {
   "cell_type": "code",
   "execution_count": 12,
   "metadata": {},
   "outputs": [
    {
     "name": "stdout",
     "output_type": "stream",
     "text": [
      "15.017115942891479\n",
      "18.73922861689219\n",
      "15.037844745154807\n",
      "18.063619008132722\n",
      "16.424053562383932\n",
      "平均psnr的值为： 16.656372375091028\n",
      "平均ssim的值为： 0.4194690902620395\n"
     ]
    }
   ],
   "source": [
    "from skimage.metrics import mean_squared_error as mse\n",
    "from skimage.metrics import peak_signal_noise_ratio as psnr\n",
    "from skimage.metrics import structural_similarity as ssim\n",
    "import cv2\n",
    "import os\n",
    "from glob import glob\n",
    "from natsort import natsorted\n",
    "\n",
    "\n",
    "target_dir = 'C://pythonwork/SRGAN/data/Set/Set5/Set5m_hr'  # 标签图像（lable 、 ground-truth）存放路径\n",
    "target_files = natsorted(glob(os.path.join(target_dir, '*.png')) + glob(os.path.join(target_dir, '*.jpg')))  # 标签图像（lable 、 ground-truth）名字的后缀\n",
    "\n",
    "test_result_dir = 'C://pythonwork/SRGAN/data/Set/Set5/ESRGAN'  # 预测图像（prediction、test、增强图像）存放路径\n",
    "test_result_files = natsorted(glob(os.path.join(test_result_dir, '*.png')) + glob(os.path.join(test_result_dir, '*.jpg')))  # 预测图像（prediction、test、增强图像）名字的后缀\n",
    "\n",
    "\n",
    "psnr_total = 0\n",
    "ssim_total = 0\n",
    "for i in range(0, len(target_files)):\n",
    "    img1 = cv2.imread(target_files[i])\n",
    "    img2 = cv2.imread(test_result_files[i])\n",
    "    p = psnr(img1, img2)\n",
    "    s = ssim(img1, img2, multichannel=True)  # 对于多通道图像(RGB、HSV等)关键词multichannel要设置为True\n",
    "    print(p)\n",
    "    # s = ssim(img1, img2)  # 对于多通道图像(RGB、HSV等)关键词multichannel要设置为True\n",
    "    m = mse(img1, img2)\n",
    "\n",
    "    psnr_total = p + psnr_total\n",
    "    ssim_total = s + ssim_total\n",
    "\n",
    "mean_psnr = psnr_total/len(target_files)\n",
    "mean_ssim = ssim_total/len(target_files)\n",
    "print('平均psnr的值为：',mean_psnr)\n",
    "print('平均ssim的值为：',mean_ssim)"
   ]
  },
  {
   "cell_type": "code",
   "execution_count": null,
   "metadata": {},
   "outputs": [],
   "source": []
  }
 ],
 "metadata": {
  "kernelspec": {
   "display_name": "Python 3",
   "language": "python",
   "name": "python3"
  },
  "language_info": {
   "codemirror_mode": {
    "name": "ipython",
    "version": 3
   },
   "file_extension": ".py",
   "mimetype": "text/x-python",
   "name": "python",
   "nbconvert_exporter": "python",
   "pygments_lexer": "ipython3",
   "version": "3.6.10"
  }
 },
 "nbformat": 4,
 "nbformat_minor": 4
}
